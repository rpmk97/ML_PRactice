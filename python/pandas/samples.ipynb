{
 "cells": [
  {
   "cell_type": "code",
   "execution_count": 12,
   "metadata": {},
   "outputs": [
    {
     "name": "stdout",
     "output_type": "stream",
     "text": [
      "['27', '43', '26', '21']\n",
      "['Ram', 'Hari', 'Gita', 'Sita']\n",
      "{'Ram': '27', 'Hari': '43', 'Gita': '26', 'Sita': '21'}\n"
     ]
    }
   ],
   "source": [
    "import re\n",
    "nameAge='''Ram is 27 and Hari is 43 Gita is 26 and Sita is 21'''\n",
    "\n",
    "ages=re.findall(r'\\d{1,9}',nameAge)\n",
    "print(ages)\n",
    "\n",
    "names=re.findall(r'[A-Z][a-z]*',nameAge)\n",
    "print(names)\n",
    "\n",
    "Emp_Disc={}\n",
    "x=0\n",
    "\n",
    "for eachname in names:\n",
    "    Emp_Disc[eachname]=ages[x]\n",
    "    x+=1\n",
    "\n",
    "    \n",
    "print(Emp_Disc)    "
   ]
  },
  {
   "cell_type": "code",
   "execution_count": 53,
   "metadata": {},
   "outputs": [
    {
     "name": "stdout",
     "output_type": "stream",
     "text": [
      "       name  age   sal\n",
      "0  abhinash   27  2.27\n",
      "1       uma   26  2.65\n",
      "       name  age   sal\n",
      "0  abhinash   27  2.27\n",
      "1       uma   26  2.65\n",
      "2   khushbo   25  2.85\n"
     ]
    }
   ],
   "source": [
    "#PANDAS\n",
    "\n",
    "import pandas as pd\n",
    "\n",
    "test=pd.read_csv('sample1.csv')#index_col specifies which column to take as index\n",
    "\n",
    "#print(test)\n",
    "\n",
    "#shape\n",
    "\n",
    "#print(test.shape)\n",
    "\n",
    "#info\n",
    "\n",
    "#print(test.info())\n",
    "\n",
    "#describe\n",
    "\n",
    "#print(test.describe())\n",
    "\n",
    "#sort\n",
    "\n",
    "#print(test.sort_values(by='age',ascending=False))\n",
    "\n",
    "#Slicing\n",
    "\n",
    "#print(test[0:2])\n",
    "\n",
    "#head\n",
    "\n",
    "#print(test.head(-2))\n",
    "#print(test.tail(2))\n",
    "\n",
    "print(test.iloc[0:2,0:3])\n",
    "print(test.loc[0:2,'name':'sal'])"
   ]
  },
  {
   "cell_type": "code",
   "execution_count": null,
   "metadata": {},
   "outputs": [],
   "source": []
  },
  {
   "cell_type": "code",
   "execution_count": 70,
   "metadata": {},
   "outputs": [
    {
     "name": "stdout",
     "output_type": "stream",
     "text": [
      "   age      name    sal\n",
      "0   22  abhinash  22.12\n",
      "1   24       uma  21.12\n",
      "2   27  khushboo  12.21\n"
     ]
    }
   ],
   "source": [
    "#joining\n",
    "import pandas as pd\n",
    "a=pd.DataFrame({'name':['abhinash','uma','khushboo','shree'],'age':[22,24,27,19],'sal':[22.12,21.12,12.21,11.2]})\n",
    "\n",
    "b=pd.DataFrame({'name':['abhinash','uma','khushboo'],'age':[22,24,27],'sal':[22.12,21.12,12.21]})\n",
    "\n",
    "\n",
    "#print(a)\n",
    "#print(b)\n",
    "\n",
    "#c=a.join(b)\n",
    "#print(c)\n",
    "\n",
    "#concat\n",
    "\n",
    "#conc=pd.concat([a,b])\n",
    "#print(conc)\n",
    "\n",
    "merge=pd.merge(a,b)\n",
    "print(merge)"
   ]
  },
  {
   "cell_type": "code",
   "execution_count": 77,
   "metadata": {},
   "outputs": [
    {
     "name": "stdout",
     "output_type": "stream",
     "text": [
      "   score  year\n",
      "0    923  2007\n",
      "1    879  2008\n",
      "2   1010  2009\n",
      "3   1311  2010\n",
      "      score\n",
      "year       \n",
      "2007    923\n",
      "2008    879\n",
      "2009   1010\n",
      "2010   1311\n"
     ]
    },
    {
     "data": {
      "image/png": "[encoded data removed]",
      "text/plain": [
       "<matplotlib.figure.Figure at 0x1c6dc132dd8>"
      ]
     },
     "metadata": {},
     "output_type": "display_data"
    }
   ],
   "source": [
    "import pandas as pd\n",
    "import matplotlib.pyplot as plt\n",
    "from matplotlib import style\n",
    "style.use(\"fivethirtyeight\")\n",
    "dhoni_data=pd.DataFrame({'year':[2007,2008,2009,2010],'score':[923,879,1010,1311]})\n",
    "print(dhoni_data)\n",
    "\n",
    "dhoni_data.set_index('year',inplace=True)#inplace true will modify the og dataset, defaualt value of inplave is false\n",
    "print(dhoni_data)\n",
    "\n",
    "\n",
    "\n",
    "dhoni_data.plot()\n",
    "plt.show()\n",
    "\n"
   ]
  },
  {
   "cell_type": "code",
   "execution_count": 80,
   "metadata": {},
   "outputs": [
    {
     "name": "stdout",
     "output_type": "stream",
     "text": [
      "      score\n",
      "year       \n",
      "2007    923\n",
      "2008    879\n",
      "2009   1010\n",
      "2010   1311\n",
      "      runs\n",
      "year      \n",
      "2007   923\n",
      "2008   879\n",
      "2009  1010\n",
      "2010  1311\n"
     ]
    }
   ],
   "source": [
    "import pandas as pd\n",
    "print(dhoni_data)\n",
    "dhoni_data=dhoni_data.rename(columns={'score':'runs'})\n",
    "print(dhoni_data)"
   ]
  },
  {
   "cell_type": "code",
   "execution_count": 82,
   "metadata": {},
   "outputs": [
    {
     "name": "stdout",
     "output_type": "stream",
     "text": [
      "        name  age   sal sex\n",
      "0   abhinash   27  2.27   M\n",
      "1        uma   26  2.65   M\n",
      "2    khushbo   25  2.85   F\n",
      "3      shree   24  2.43   F\n",
      "4   abhinash   27  2.27   M\n",
      "5        uma   26  2.65   M\n",
      "6    khushbo   25  2.85   F\n",
      "7      shree   24  2.43   F\n",
      "8   abhinash   27  2.27   M\n",
      "9        uma   26  2.65   M\n",
      "10   khushbo   25  2.85   F\n",
      "11     shree   24  2.43   F\n"
     ]
    }
   ],
   "source": [
    "import pandas as pd\n",
    "\n",
    "test=pd.read_csv('sample1.csv')\n",
    "print(test)\n",
    "\n",
    "test.to_html('test.html')"
   ]
  },
  {
   "cell_type": "code",
   "execution_count": null,
   "metadata": {},
   "outputs": [],
   "source": []
  }
 ],
 "metadata": {
  "kernelspec": {
   "display_name": "Python 3",
   "language": "python",
   "name": "python3"
  },
  "language_info": {
   "codemirror_mode": {
    "name": "ipython",
    "version": 3
   },
   "file_extension": ".py",
   "mimetype": "text/x-python",
   "name": "python",
   "nbconvert_exporter": "python",
   "pygments_lexer": "ipython3",
   "version": "3.6.4"
  }
 },
 "nbformat": 4,
 "nbformat_minor": 2
}
