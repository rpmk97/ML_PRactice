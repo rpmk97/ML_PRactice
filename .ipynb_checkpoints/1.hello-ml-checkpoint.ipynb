{
 "cells": [
  {
   "cell_type": "code",
   "execution_count": null,
   "metadata": {},
   "outputs": [],
   "source": [
    "from sklearn import tree\n",
    "features=[[120,1],[140,1],[150,2],[170,2]]\n",
    "lables=[0,0,1,1]\n",
    "clf=tree.DescisionTreeClassifer()\n",
    "clf.fit(features,labels)\n",
    "print(clf.predict(160,2))"
   ]
  }
 ],
 "metadata": {
  "kernelspec": {
   "display_name": "Python 3",
   "language": "python",
   "name": "python3"
  },
  "language_info": {
   "codemirror_mode": {
    "name": "ipython",
    "version": 3
   },
   "file_extension": ".py",
   "mimetype": "text/x-python",
   "name": "python",
   "nbconvert_exporter": "python",
   "pygments_lexer": "ipython3",
   "version": "3.6.4"
  }
 },
 "nbformat": 4,
 "nbformat_minor": 2
}
